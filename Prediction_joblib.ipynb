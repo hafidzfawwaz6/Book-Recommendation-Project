{
 "cells": [
  {
   "cell_type": "code",
   "execution_count": 24,
   "id": "a6f1b320",
   "metadata": {},
   "outputs": [],
   "source": [
    "import pandas as pd\n",
    "import numpy as np\n",
    "\n",
    "import warnings\n",
    "warnings.filterwarnings('ignore')"
   ]
  },
  {
   "cell_type": "code",
   "execution_count": 25,
   "id": "85a5c5f2",
   "metadata": {},
   "outputs": [],
   "source": [
    "df = pd.read_csv('preprocessed_book_data.csv')\n",
    "df.set_index('Book-Title', inplace=True)"
   ]
  },
  {
   "cell_type": "code",
   "execution_count": 26,
   "id": "f15a3b01",
   "metadata": {},
   "outputs": [],
   "source": [
    "import joblib\n",
    "\n",
    "loaded_model = joblib.load('book_recommender_model.joblib')"
   ]
  },
  {
   "cell_type": "code",
   "execution_count": 27,
   "id": "09597788",
   "metadata": {},
   "outputs": [
    {
     "name": "stdout",
     "output_type": "stream",
     "text": [
      "Recommendations for 'I'll Be Seeing You':\n",
      "You Belong To Me (similarity score: 0.51)\n",
      "Daddy's Little Girl (similarity score: 0.47)\n",
      "Let Me Call You Sweetheart (similarity score: 0.46)\n",
      "Before I Say Good-Bye (similarity score: 0.40)\n",
      "Loves Music, Loves to Dance (similarity score: 0.38)\n"
     ]
    }
   ],
   "source": [
    "title = \"I'll be Seeing You\".strip().lower().replace(\"'\", \"\")\n",
    "\n",
    "# Find the index of the matching title (if it exists)\n",
    "matching_index = df.index.str.strip().str.lower().str.replace(\"'\", \"\").get_loc(title)\n",
    "\n",
    "if not pd.isnull(matching_index):\n",
    "    title = df.index[matching_index]\n",
    "    book_vector = df.loc[title].values.reshape(1, -1)\n",
    "    distances, indices = loaded_model.kneighbors(book_vector, n_neighbors=6)\n",
    "\n",
    "    recommended_books = df.index[indices.flatten()][1:]\n",
    "    print(f\"Recommendations for '{title}':\")\n",
    "    for book, distance in zip(recommended_books, distances.flatten()[1:]):\n",
    "        print(f\"{book} (similarity score: {1 - distance:.2f})\")\n",
    "else:\n",
    "    print(f\"Book '{title}' not found in the dataset.\")\n"
   ]
  }
 ],
 "metadata": {
  "kernelspec": {
   "display_name": "Python 3 (ipykernel)",
   "language": "python",
   "name": "python3"
  },
  "language_info": {
   "codemirror_mode": {
    "name": "ipython",
    "version": 3
   },
   "file_extension": ".py",
   "mimetype": "text/x-python",
   "name": "python",
   "nbconvert_exporter": "python",
   "pygments_lexer": "ipython3",
   "version": "3.12.0"
  }
 },
 "nbformat": 4,
 "nbformat_minor": 5
}
