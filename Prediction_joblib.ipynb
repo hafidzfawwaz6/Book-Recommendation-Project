{
 "cells": [
  {
   "cell_type": "code",
   "execution_count": 24,
   "id": "a6f1b320",
   "metadata": {},
   "outputs": [],
   "source": [
    "import pandas as pd\n",
    "import numpy as np\n",
    "\n",
    "import warnings\n",
    "warnings.filterwarnings('ignore')"
   ]
  },
  {
   "cell_type": "code",
   "execution_count": 25,
   "id": "85a5c5f2",
   "metadata": {},
   "outputs": [],
   "source": [
    "df = pd.read_csv('preprocessed_book_data.csv')\n",
    "df.set_index('Book-Title', inplace=True)"
   ]
  },
  {
   "cell_type": "code",
   "execution_count": 26,
   "id": "f15a3b01",
   "metadata": {},
   "outputs": [],
   "source": [
    "import joblib\n",
    "\n",
    "loaded_model = joblib.load('book_recommender_model.joblib')"
   ]
  },
  {
   "cell_type": "code",
   "execution_count": 9,
   "id": "09597788",
   "metadata": {},
   "outputs": [],
   "source": [
    "title = \"I'll be Seeing You\".strip().lower().replace(\"'\", \"\")\n",
    "\n",
    "# Find the index of the matching title (if it exists)\n",
    "matching_index = df.index.str.strip().str.lower().str.replace(\"'\", \"\").get_loc(title)\n",
    "\n",
    "if not pd.isnull(matching_index):\n",
    "    title = df.index[matching_index]\n",
    "    book_vector = df.loc[title].values.reshape(1, -1)\n",
    "    distances, indices = loaded_model.kneighbors(book_vector, n_neighbors=6)\n",
    "\n",
    "    recommended_books = df.index[indices.flatten()][1:]\n",
    "    print(f\"Recommendations for '{title}':\")\n",
    "    for book, distance in zip(recommended_books, distances.flatten()[1:]):\n",
    "        print(f\"{book} (similarity score: {1 - distance:.2f})\")\n",
    "else:\n",
    "    print(f\"Book '{title}' not found in the dataset.\")"
   ]
  },
  {
   "cell_type": "code",
   "execution_count": 10,
   "id": "338cef8e",
   "metadata": {},
   "outputs": [],
   "source": [
    "books_df = pd.read_csv(r'book/Books.csv')"
   ]
  },
  {
   "cell_type": "code",
   "execution_count": 11,
   "id": "2a911ca7",
   "metadata": {},
   "outputs": [
    {
     "name": "stdout",
     "output_type": "stream",
     "text": [
      "Recommendations for 'I'll Be Seeing You':\n",
      "Book 'You Belong To Me' not found in the books DataFrame.\n",
      "Book 'Daddy's Little Girl' not found in the books DataFrame.\n",
      "Book 'Let Me Call You Sweetheart' not found in the books DataFrame.\n",
      "Book 'Before I Say Good-Bye' not found in the books DataFrame.\n",
      "Book 'Loves Music, Loves to Dance' not found in the books DataFrame.\n"
     ]
    }
   ],
   "source": [
    "if not pd.isnull(matching_index):\n",
    "    title = df.index[matching_index]\n",
    "    book_vector = df.loc[title].values.reshape(1, -1)\n",
    "    distances, indices = loaded_model.kneighbors(book_vector, n_neighbors=6)\n",
    "\n",
    "    recommended_books = df.index[indices.flatten()][1:]\n",
    "\n",
    "    print(f\"Recommendations for '{title}':\")\n",
    "\n",
    "    for book in recommended_books:\n",
    "        if book in books_df.index:\n",
    "            book_info = books_df.loc[book]\n",
    "            print(f\"Title: {book}\")\n",
    "            print(f\"Author: {book_info['Book-Author']}\")\n",
    "            print(f\"Year of Publication: {book_info['Year-Of-Publication']}\")\n",
    "            print(f\"Publisher: {book_info['Publisher']}\")\n",
    "            print(\"----------------------------\")\n",
    "        else:\n",
    "            print(f\"Book '{book}' not found in the books DataFrame.\")\n",
    "else:\n",
    "    print(f\"Book '{title}' not found in the dataset.\")"
   ]
  },
  {
   "cell_type": "code",
   "execution_count": null,
   "id": "a27c55fc",
   "metadata": {},
   "outputs": [],
   "source": []
  }
 ],
 "metadata": {
  "kernelspec": {
   "display_name": "Python 3 (ipykernel)",
   "language": "python",
   "name": "python3"
  },
  "language_info": {
   "codemirror_mode": {
    "name": "ipython",
    "version": 3
   },
   "file_extension": ".py",
   "mimetype": "text/x-python",
   "name": "python",
   "nbconvert_exporter": "python",
   "pygments_lexer": "ipython3",
   "version": "3.10.6"
  }
 },
 "nbformat": 4,
 "nbformat_minor": 5
}
