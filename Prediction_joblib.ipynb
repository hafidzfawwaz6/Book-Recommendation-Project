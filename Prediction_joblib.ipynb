{
 "cells": [
  {
   "cell_type": "code",
   "execution_count": 1,
   "id": "a6f1b320",
   "metadata": {},
   "outputs": [],
   "source": [
    "import pandas as pd\n",
    "import numpy as np\n",
    "\n",
    "import warnings\n",
    "warnings.filterwarnings('ignore')"
   ]
  },
  {
   "cell_type": "code",
   "execution_count": 2,
   "id": "85a5c5f2",
   "metadata": {},
   "outputs": [],
   "source": [
    "df = pd.read_csv(r'preprocessed_book_data.csv')\n",
    "df.set_index('Book-Title', inplace=True)"
   ]
  },
  {
   "cell_type": "code",
   "execution_count": 3,
   "id": "f15a3b01",
   "metadata": {},
   "outputs": [],
   "source": [
    "import joblib\n",
    "\n",
    "loaded_model = joblib.load('book_recommender_model.joblib')"
   ]
  },
  {
   "cell_type": "code",
   "execution_count": 4,
   "id": "09597788",
   "metadata": {},
   "outputs": [
    {
     "name": "stdout",
     "output_type": "stream",
     "text": [
      "Recommendations for 'i'll be seeing you':\n",
      "you belong to me (similarity score: 0.51)\n",
      "daddy's little girl (similarity score: 0.47)\n",
      "let me call you sweetheart (similarity score: 0.46)\n",
      "before i say good-bye (similarity score: 0.40)\n",
      "loves music, loves to dance (similarity score: 0.38)\n"
     ]
    }
   ],
   "source": [
    "title = \"I'll Be Seeing You\".strip().lower()\n",
    "\n",
    "df.index = df.index.str.strip().str.lower()\n",
    "\n",
    "if title in df.index:\n",
    "    book_vector = df.loc[title].values.reshape(1, -1)\n",
    "    distances, indices = loaded_model.kneighbors(book_vector, n_neighbors=6)\n",
    "\n",
    "    recommended_books = df.index[indices.flatten()][1:]\n",
    "    print(f\"Recommendations for '{title}':\")\n",
    "    for book, distance in zip(recommended_books, distances.flatten()[1:]):\n",
    "        print(f\"{book} (similarity score: {1 - distance:.2f})\")\n",
    "else:\n",
    "    print(f\"Book '{title}' not found in the dataset.\")\n"
   ]
  },
  {
   "cell_type": "code",
   "execution_count": 6,
   "id": "b6d17f66",
   "metadata": {},
   "outputs": [
    {
     "name": "stdout",
     "output_type": "stream",
     "text": [
      "True\n"
     ]
    }
   ],
   "source": [
    "print(title in df.index)"
   ]
  },
  {
   "cell_type": "code",
   "execution_count": null,
   "id": "5cd9941e",
   "metadata": {},
   "outputs": [],
   "source": []
  }
 ],
 "metadata": {
  "kernelspec": {
   "display_name": "Python 3 (ipykernel)",
   "language": "python",
   "name": "python3"
  },
  "language_info": {
   "codemirror_mode": {
    "name": "ipython",
    "version": 3
   },
   "file_extension": ".py",
   "mimetype": "text/x-python",
   "name": "python",
   "nbconvert_exporter": "python",
   "pygments_lexer": "ipython3",
   "version": "3.10.6"
  }
 },
 "nbformat": 4,
 "nbformat_minor": 5
}
