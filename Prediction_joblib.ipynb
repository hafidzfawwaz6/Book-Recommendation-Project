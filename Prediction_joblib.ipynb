{
 "cells": [
  {
   "cell_type": "code",
   "execution_count": 1,
   "id": "a6f1b320",
   "metadata": {},
   "outputs": [],
   "source": [
    "import pandas as pd\n",
    "import numpy as np\n",
    "\n",
    "import warnings\n",
    "warnings.filterwarnings('ignore')"
   ]
  },
  {
   "cell_type": "code",
   "execution_count": 2,
   "id": "85a5c5f2",
   "metadata": {},
   "outputs": [],
   "source": [
    "df = pd.read_csv('preprocessed_book_data.csv')\n",
    "df.set_index('Book-Title', inplace=True)"
   ]
  },
  {
   "cell_type": "code",
   "execution_count": 3,
   "id": "839c4c27",
   "metadata": {},
   "outputs": [],
   "source": [
    "books_df = pd.read_csv(r'book/Books.csv')"
   ]
  },
  {
   "cell_type": "code",
   "execution_count": 4,
   "id": "f15a3b01",
   "metadata": {},
   "outputs": [],
   "source": [
    "import joblib\n",
    "\n",
    "loaded_model = joblib.load('book_recommender_model.joblib')"
   ]
  },
  {
   "cell_type": "code",
   "execution_count": 9,
   "id": "c5241f13",
   "metadata": {},
   "outputs": [],
   "source": [
    "title = \"Loves Music, Loves to Dance\".strip().lower().replace(\"'\", \"\")\n",
    "\n",
    "# Find the index of the matching title (if it exists)\n",
    "matching_index = df.index.str.strip().str.lower().str.replace(\"'\", \"\").get_loc(title)"
   ]
  },
  {
   "cell_type": "code",
   "execution_count": 10,
   "id": "09597788",
   "metadata": {},
   "outputs": [
    {
     "name": "stdout",
     "output_type": "stream",
     "text": [
      "Recommendations for 'Loves Music, Loves to Dance':\n",
      "You Belong To Me (similarity score: 0.60)\n",
      "Moonlight Becomes You (similarity score: 0.52)\n",
      "The Face of Deception (similarity score: 0.45)\n",
      "Daddy's Little Girl (similarity score: 0.44)\n",
      "While My Pretty One Sleeps (similarity score: 0.41)\n"
     ]
    }
   ],
   "source": [
    "if not pd.isnull(matching_index):\n",
    "    title = df.index[matching_index]\n",
    "    book_vector = df.loc[title].values.reshape(1, -1)\n",
    "    distances, indices = loaded_model.kneighbors(book_vector, n_neighbors=6)\n",
    "\n",
    "    recommended_books = df.index[indices.flatten()][1:]\n",
    "    print(f\"Recommendations for '{title}':\")\n",
    "    for book, distance in zip(recommended_books, distances.flatten()[1:]):\n",
    "        print(f\"{book} (similarity score: {1 - distance:.2f})\")\n",
    "else:\n",
    "    print(f\"Book '{title}' not found in the dataset.\")"
   ]
  },
  {
   "cell_type": "code",
   "execution_count": 11,
   "id": "29c91c40",
   "metadata": {},
   "outputs": [
    {
     "name": "stdout",
     "output_type": "stream",
     "text": [
      "Recommendations for 'Loves Music, Loves to Dance':\n",
      "You Belong To Me\n",
      "Moonlight Becomes You\n",
      "The Face of Deception\n",
      "Daddy's Little Girl\n",
      "While My Pretty One Sleeps\n"
     ]
    }
   ],
   "source": [
    "recommended_titles = []\n",
    "\n",
    "if not pd.isnull(matching_index):\n",
    "    title = df.index[matching_index]\n",
    "    book_vector = df.loc[title].values.reshape(1, -1)\n",
    "    distances, indices = loaded_model.kneighbors(book_vector, n_neighbors=6)\n",
    "\n",
    "    recommended_titles = df.index[indices.flatten()][1:].tolist()\n",
    "    \n",
    "    print(f\"Recommendations for '{title}':\")\n",
    "    for book in recommended_titles:\n",
    "        print(book)\n",
    "else:\n",
    "    print(f\"Book '{title}' not found in the dataset.\")"
   ]
  },
  {
   "cell_type": "code",
   "execution_count": 12,
   "id": "06701680",
   "metadata": {},
   "outputs": [
    {
     "name": "stdout",
     "output_type": "stream",
     "text": [
      "Title: You Belong To Me\n",
      "Author: Mary Higgins Clark\n",
      "Year of Publication: 1999\n",
      "Publisher: Pocket Books\n",
      "----------------------------\n",
      "Title: Moonlight Becomes You\n",
      "Author: Mary Higgins Clark\n",
      "Year of Publication: 1997\n",
      "Publisher: Pocket\n",
      "----------------------------\n",
      "Title: The Face of Deception\n",
      "Author: Iris Johansen\n",
      "Year of Publication: 1999\n",
      "Publisher: Bantam Books\n",
      "----------------------------\n",
      "Title: Daddy's Little Girl\n",
      "Author: Mary Higgins Clark\n",
      "Year of Publication: 2002\n",
      "Publisher: Simon &amp; Schuster\n",
      "----------------------------\n",
      "Title: While My Pretty One Sleeps\n",
      "Author: Mary Higgins Clark\n",
      "Year of Publication: 1990\n",
      "Publisher: Pocket\n",
      "----------------------------\n"
     ]
    }
   ],
   "source": [
    "import re\n",
    "\n",
    "def normalize_title(title):\n",
    "    \"\"\"Normalize the book title by stripping spaces, lowercasing, and removing special characters.\"\"\"\n",
    "    return re.sub(r'\\W+', '', str(title).strip().lower())\n",
    "\n",
    "def return_book_info_func(title, books_df):\n",
    "    normalized_title = normalize_title(title)\n",
    "\n",
    "    books_df['normalized_title'] = books_df['Book-Title'].apply(normalize_title)\n",
    "\n",
    "    if normalized_title in books_df['normalized_title'].values:\n",
    "        book_info = books_df[books_df['normalized_title'] == normalized_title].iloc[0]\n",
    "        print(f\"Title: {book_info['Book-Title']}\")\n",
    "        print(f\"Author: {book_info['Book-Author']}\")\n",
    "        print(f\"Year of Publication: {book_info['Year-Of-Publication']}\")\n",
    "        print(f\"Publisher: {book_info['Publisher']}\")\n",
    "\n",
    "        print(\"----------------------------\")\n",
    "    else:\n",
    "        print(f\"Book '{title}' not found in the books DataFrame.\")\n",
    "\n",
    "\n",
    "for title in recommended_titles:\n",
    "    return_book_info_func(title, books_df)"
   ]
  },
  {
   "cell_type": "code",
   "execution_count": null,
   "id": "5d828365",
   "metadata": {},
   "outputs": [],
   "source": []
  },
  {
   "cell_type": "code",
   "execution_count": null,
   "id": "66d648c0",
   "metadata": {},
   "outputs": [],
   "source": []
  }
 ],
 "metadata": {
  "kernelspec": {
   "display_name": "Python 3 (ipykernel)",
   "language": "python",
   "name": "python3"
  },
  "language_info": {
   "codemirror_mode": {
    "name": "ipython",
    "version": 3
   },
   "file_extension": ".py",
   "mimetype": "text/x-python",
   "name": "python",
   "nbconvert_exporter": "python",
   "pygments_lexer": "ipython3",
   "version": "3.10.6"
  }
 },
 "nbformat": 4,
 "nbformat_minor": 5
}
