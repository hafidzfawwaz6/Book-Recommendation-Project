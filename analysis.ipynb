{
 "cells": [
  {
   "cell_type": "markdown",
   "id": "522ad6b8",
   "metadata": {},
   "source": [
    "## Import Libraries"
   ]
  },
  {
   "cell_type": "code",
   "execution_count": 1,
   "id": "36bea295",
   "metadata": {},
   "outputs": [],
   "source": [
    "import pandas as pd\n",
    "import numpy as np\n",
    "import matplotlib.pyplot as plt\n",
    "import seaborn as sns\n",
    "\n",
    "import warnings\n",
    "warnings.filterwarnings('ignore')"
   ]
  },
  {
   "cell_type": "markdown",
   "id": "e5106622",
   "metadata": {},
   "source": [
    "## Upload Dataset"
   ]
  },
  {
   "cell_type": "code",
   "execution_count": 2,
   "id": "fa344da9",
   "metadata": {
    "scrolled": true
   },
   "outputs": [],
   "source": [
    "book_df = pd.read_csv(r'book/Books.csv')\n",
    "rating_df = pd.read_csv(r'book/Ratings.csv')"
   ]
  },
  {
   "cell_type": "markdown",
   "id": "46e0997d",
   "metadata": {},
   "source": [
    "## Book Data Preprocessing"
   ]
  },
  {
   "cell_type": "code",
   "execution_count": 3,
   "id": "034d78fa",
   "metadata": {
    "scrolled": true
   },
   "outputs": [
    {
     "data": {
      "text/html": [
       "<div>\n",
       "<style scoped>\n",
       "    .dataframe tbody tr th:only-of-type {\n",
       "        vertical-align: middle;\n",
       "    }\n",
       "\n",
       "    .dataframe tbody tr th {\n",
       "        vertical-align: top;\n",
       "    }\n",
       "\n",
       "    .dataframe thead th {\n",
       "        text-align: right;\n",
       "    }\n",
       "</style>\n",
       "<table border=\"1\" class=\"dataframe\">\n",
       "  <thead>\n",
       "    <tr style=\"text-align: right;\">\n",
       "      <th></th>\n",
       "      <th>ISBN</th>\n",
       "      <th>Book-Title</th>\n",
       "      <th>Book-Author</th>\n",
       "      <th>Year-Of-Publication</th>\n",
       "      <th>Publisher</th>\n",
       "      <th>Image-URL-S</th>\n",
       "      <th>Image-URL-M</th>\n",
       "      <th>Image-URL-L</th>\n",
       "    </tr>\n",
       "  </thead>\n",
       "  <tbody>\n",
       "    <tr>\n",
       "      <th>0</th>\n",
       "      <td>0195153448</td>\n",
       "      <td>Classical Mythology</td>\n",
       "      <td>Mark P. O. Morford</td>\n",
       "      <td>2002</td>\n",
       "      <td>Oxford University Press</td>\n",
       "      <td>http://images.amazon.com/images/P/0195153448.0...</td>\n",
       "      <td>http://images.amazon.com/images/P/0195153448.0...</td>\n",
       "      <td>http://images.amazon.com/images/P/0195153448.0...</td>\n",
       "    </tr>\n",
       "    <tr>\n",
       "      <th>1</th>\n",
       "      <td>0002005018</td>\n",
       "      <td>Clara Callan</td>\n",
       "      <td>Richard Bruce Wright</td>\n",
       "      <td>2001</td>\n",
       "      <td>HarperFlamingo Canada</td>\n",
       "      <td>http://images.amazon.com/images/P/0002005018.0...</td>\n",
       "      <td>http://images.amazon.com/images/P/0002005018.0...</td>\n",
       "      <td>http://images.amazon.com/images/P/0002005018.0...</td>\n",
       "    </tr>\n",
       "    <tr>\n",
       "      <th>2</th>\n",
       "      <td>0060973129</td>\n",
       "      <td>Decision in Normandy</td>\n",
       "      <td>Carlo D'Este</td>\n",
       "      <td>1991</td>\n",
       "      <td>HarperPerennial</td>\n",
       "      <td>http://images.amazon.com/images/P/0060973129.0...</td>\n",
       "      <td>http://images.amazon.com/images/P/0060973129.0...</td>\n",
       "      <td>http://images.amazon.com/images/P/0060973129.0...</td>\n",
       "    </tr>\n",
       "    <tr>\n",
       "      <th>3</th>\n",
       "      <td>0374157065</td>\n",
       "      <td>Flu: The Story of the Great Influenza Pandemic...</td>\n",
       "      <td>Gina Bari Kolata</td>\n",
       "      <td>1999</td>\n",
       "      <td>Farrar Straus Giroux</td>\n",
       "      <td>http://images.amazon.com/images/P/0374157065.0...</td>\n",
       "      <td>http://images.amazon.com/images/P/0374157065.0...</td>\n",
       "      <td>http://images.amazon.com/images/P/0374157065.0...</td>\n",
       "    </tr>\n",
       "    <tr>\n",
       "      <th>4</th>\n",
       "      <td>0393045218</td>\n",
       "      <td>The Mummies of Urumchi</td>\n",
       "      <td>E. J. W. Barber</td>\n",
       "      <td>1999</td>\n",
       "      <td>W. W. Norton &amp;amp; Company</td>\n",
       "      <td>http://images.amazon.com/images/P/0393045218.0...</td>\n",
       "      <td>http://images.amazon.com/images/P/0393045218.0...</td>\n",
       "      <td>http://images.amazon.com/images/P/0393045218.0...</td>\n",
       "    </tr>\n",
       "  </tbody>\n",
       "</table>\n",
       "</div>"
      ],
      "text/plain": [
       "         ISBN                                         Book-Title  \\\n",
       "0  0195153448                                Classical Mythology   \n",
       "1  0002005018                                       Clara Callan   \n",
       "2  0060973129                               Decision in Normandy   \n",
       "3  0374157065  Flu: The Story of the Great Influenza Pandemic...   \n",
       "4  0393045218                             The Mummies of Urumchi   \n",
       "\n",
       "            Book-Author Year-Of-Publication                   Publisher  \\\n",
       "0    Mark P. O. Morford                2002     Oxford University Press   \n",
       "1  Richard Bruce Wright                2001       HarperFlamingo Canada   \n",
       "2          Carlo D'Este                1991             HarperPerennial   \n",
       "3      Gina Bari Kolata                1999        Farrar Straus Giroux   \n",
       "4       E. J. W. Barber                1999  W. W. Norton &amp; Company   \n",
       "\n",
       "                                         Image-URL-S  \\\n",
       "0  http://images.amazon.com/images/P/0195153448.0...   \n",
       "1  http://images.amazon.com/images/P/0002005018.0...   \n",
       "2  http://images.amazon.com/images/P/0060973129.0...   \n",
       "3  http://images.amazon.com/images/P/0374157065.0...   \n",
       "4  http://images.amazon.com/images/P/0393045218.0...   \n",
       "\n",
       "                                         Image-URL-M  \\\n",
       "0  http://images.amazon.com/images/P/0195153448.0...   \n",
       "1  http://images.amazon.com/images/P/0002005018.0...   \n",
       "2  http://images.amazon.com/images/P/0060973129.0...   \n",
       "3  http://images.amazon.com/images/P/0374157065.0...   \n",
       "4  http://images.amazon.com/images/P/0393045218.0...   \n",
       "\n",
       "                                         Image-URL-L  \n",
       "0  http://images.amazon.com/images/P/0195153448.0...  \n",
       "1  http://images.amazon.com/images/P/0002005018.0...  \n",
       "2  http://images.amazon.com/images/P/0060973129.0...  \n",
       "3  http://images.amazon.com/images/P/0374157065.0...  \n",
       "4  http://images.amazon.com/images/P/0393045218.0...  "
      ]
     },
     "execution_count": 3,
     "metadata": {},
     "output_type": "execute_result"
    }
   ],
   "source": [
    "book_df.head()"
   ]
  },
  {
   "cell_type": "code",
   "execution_count": 4,
   "id": "fed0aba4",
   "metadata": {},
   "outputs": [
    {
     "data": {
      "text/plain": [
       "(271360, 8)"
      ]
     },
     "execution_count": 4,
     "metadata": {},
     "output_type": "execute_result"
    }
   ],
   "source": [
    "book_df.shape"
   ]
  },
  {
   "cell_type": "code",
   "execution_count": null,
   "id": "c06477ce",
   "metadata": {
    "scrolled": true
   },
   "outputs": [],
   "source": [
    "book_df.isna().sum()"
   ]
  },
  {
   "cell_type": "code",
   "execution_count": null,
   "id": "d6819623",
   "metadata": {},
   "outputs": [],
   "source": [
    "book_df.dropna(inplace=True)"
   ]
  },
  {
   "cell_type": "code",
   "execution_count": null,
   "id": "aa054659",
   "metadata": {},
   "outputs": [],
   "source": [
    "book_df.isna().sum()"
   ]
  },
  {
   "cell_type": "markdown",
   "id": "e0646776",
   "metadata": {},
   "source": [
    "## Rating Data Preprocessing"
   ]
  },
  {
   "cell_type": "code",
   "execution_count": null,
   "id": "0cbea60a",
   "metadata": {},
   "outputs": [],
   "source": [
    "rating_df.head()"
   ]
  },
  {
   "cell_type": "code",
   "execution_count": null,
   "id": "ad09e26e",
   "metadata": {},
   "outputs": [],
   "source": [
    "rating_df.shape"
   ]
  },
  {
   "cell_type": "code",
   "execution_count": null,
   "id": "bb49436f",
   "metadata": {},
   "outputs": [],
   "source": [
    "rating_df.isna().sum()"
   ]
  },
  {
   "cell_type": "markdown",
   "id": "8da70b50",
   "metadata": {},
   "source": [
    "## Exploratory Data Analysis"
   ]
  },
  {
   "cell_type": "code",
   "execution_count": null,
   "id": "3b3dee46",
   "metadata": {},
   "outputs": [],
   "source": [
    "user_rating = rating_df['User-ID'].value_counts()"
   ]
  },
  {
   "cell_type": "code",
   "execution_count": null,
   "id": "00da7907",
   "metadata": {},
   "outputs": [],
   "source": [
    "user_rating"
   ]
  },
  {
   "cell_type": "code",
   "execution_count": null,
   "id": "8f4b341b",
   "metadata": {
    "scrolled": true
   },
   "outputs": [],
   "source": [
    "plt.figure(figsize=(10, 6))\n",
    "sns.countplot(x='Book-Rating', data=rating_df)\n",
    "plt.title('Distribution of Book Ratings')\n",
    "plt.xlabel('Book Rating')\n",
    "plt.ylabel('Count')\n",
    "plt.show()"
   ]
  },
  {
   "cell_type": "code",
   "execution_count": null,
   "id": "f13333dc",
   "metadata": {},
   "outputs": [],
   "source": [
    "num_ratings_per_book = rating_df['ISBN'].value_counts()\n",
    "\n",
    "plt.figure(figsize=(10, 6))\n",
    "sns.histplot(num_ratings_per_book, bins=50, kde=True)\n",
    "plt.title('Distribution of Number of Ratings per Book')\n",
    "plt.xlabel('Number of Ratings')\n",
    "plt.ylabel('Number of Books')\n",
    "plt.show()"
   ]
  },
  {
   "cell_type": "code",
   "execution_count": null,
   "id": "d0550c19",
   "metadata": {
    "scrolled": false
   },
   "outputs": [],
   "source": [
    "user_ratings_dist = rating_df.groupby('User-ID')['Book-Rating'].mean()\n",
    "\n",
    "plt.figure(figsize=(10, 6))\n",
    "sns.histplot(user_ratings_dist, bins=10, kde=True)\n",
    "plt.title('Distribution of Average User Ratings')\n",
    "plt.xlabel('Average Rating')\n",
    "plt.ylabel('Number of Users')\n",
    "plt.show()"
   ]
  },
  {
   "cell_type": "code",
   "execution_count": null,
   "id": "5e6e6cd3",
   "metadata": {},
   "outputs": [],
   "source": [
    "rating_df.info()"
   ]
  },
  {
   "cell_type": "code",
   "execution_count": null,
   "id": "7cc6a34b",
   "metadata": {},
   "outputs": [],
   "source": [
    "rating_df.describe()"
   ]
  },
  {
   "cell_type": "markdown",
   "id": "8a389352",
   "metadata": {},
   "source": [
    "## Preprocess for Machine Learning"
   ]
  },
  {
   "cell_type": "code",
   "execution_count": null,
   "id": "2049356a",
   "metadata": {},
   "outputs": [],
   "source": [
    "book_df = book_df.drop(['Year-Of-Publication', 'Publisher', 'Image-URL-S', 'Image-URL-M', 'Image-URL-L'], axis=1)"
   ]
  },
  {
   "cell_type": "code",
   "execution_count": null,
   "id": "c89af4c0",
   "metadata": {},
   "outputs": [],
   "source": [
    "book_df"
   ]
  },
  {
   "cell_type": "code",
   "execution_count": null,
   "id": "3f59a9e5",
   "metadata": {},
   "outputs": [],
   "source": [
    "ratings = rating_df['User-ID'].value_counts()"
   ]
  },
  {
   "cell_type": "code",
   "execution_count": null,
   "id": "7cb0f983",
   "metadata": {},
   "outputs": [],
   "source": [
    "ratings.sort_values(ascending=False).head()"
   ]
  },
  {
   "cell_type": "markdown",
   "id": "6086db4f",
   "metadata": {},
   "source": [
    "### Filter users with less than 200 ratings"
   ]
  },
  {
   "cell_type": "code",
   "execution_count": null,
   "id": "58ac4876",
   "metadata": {},
   "outputs": [],
   "source": [
    "len(ratings[ratings < 200])"
   ]
  },
  {
   "cell_type": "code",
   "execution_count": null,
   "id": "2d076589",
   "metadata": {},
   "outputs": [],
   "source": [
    "rating_df['User-ID'].isin(ratings[ratings < 200].index).sum()"
   ]
  },
  {
   "cell_type": "code",
   "execution_count": null,
   "id": "23410e5c",
   "metadata": {},
   "outputs": [],
   "source": [
    "filtered_users = ratings[ratings < 200].index\n",
    "\n",
    "df_ratings_rm = rating_df[~rating_df['User-ID'].isin(filtered_users)]\n",
    "\n",
    "df_ratings_rm.shape"
   ]
  },
  {
   "cell_type": "markdown",
   "id": "cdbb0490",
   "metadata": {},
   "source": [
    "### Filter books with less than 100 ratings"
   ]
  },
  {
   "cell_type": "code",
   "execution_count": null,
   "id": "e511ef9e",
   "metadata": {},
   "outputs": [],
   "source": [
    "ratings = rating_df['ISBN'].value_counts() \n",
    "ratings.sort_values(ascending=False).head()"
   ]
  },
  {
   "cell_type": "code",
   "execution_count": null,
   "id": "dcda1b14",
   "metadata": {},
   "outputs": [],
   "source": [
    "len(ratings[ratings < 100])"
   ]
  },
  {
   "cell_type": "code",
   "execution_count": null,
   "id": "5d7340ae",
   "metadata": {},
   "outputs": [],
   "source": [
    "book_df['ISBN'].isin(ratings[ratings < 100].index).sum()"
   ]
  },
  {
   "cell_type": "code",
   "execution_count": null,
   "id": "a5349350",
   "metadata": {},
   "outputs": [],
   "source": [
    "filtered_isbns = ratings[ratings < 100].index\n",
    "\n",
    "df_ratings_rm = df_ratings_rm[~df_ratings_rm['ISBN'].isin(filtered_isbns)]\n",
    "\n",
    "df_ratings_rm.shape"
   ]
  },
  {
   "cell_type": "code",
   "execution_count": null,
   "id": "8e1de1f7",
   "metadata": {},
   "outputs": [],
   "source": [
    "df_ratings_rm.head()"
   ]
  },
  {
   "cell_type": "code",
   "execution_count": null,
   "id": "bb7c93d9",
   "metadata": {},
   "outputs": [],
   "source": [
    "book_df.head()"
   ]
  },
  {
   "cell_type": "code",
   "execution_count": null,
   "id": "6cebfa28",
   "metadata": {},
   "outputs": [],
   "source": [
    "df = df_ratings_rm.pivot_table(index=['User-ID'],columns=['ISBN'],values='Book-Rating').fillna(0).T\n",
    "df.head()"
   ]
  },
  {
   "cell_type": "code",
   "execution_count": null,
   "id": "5e97b4e8",
   "metadata": {},
   "outputs": [],
   "source": [
    "df.index = df.join(book_df.set_index('ISBN'))['Book-Title']"
   ]
  },
  {
   "cell_type": "code",
   "execution_count": null,
   "id": "7f7055ec",
   "metadata": {
    "scrolled": true
   },
   "outputs": [],
   "source": [
    "df = df.sort_index()\n",
    "df.head()"
   ]
  },
  {
   "cell_type": "code",
   "execution_count": null,
   "id": "a9015313",
   "metadata": {},
   "outputs": [],
   "source": [
    "df.loc[\"I'll Be Seeing You\"][:5]"
   ]
  },
  {
   "cell_type": "code",
   "execution_count": null,
   "id": "b9c60ac9",
   "metadata": {},
   "outputs": [],
   "source": [
    "df.to_csv('preprocessed_book_data.csv', index=True)"
   ]
  },
  {
   "cell_type": "markdown",
   "id": "93468597",
   "metadata": {},
   "source": [
    "### Create KNN Model"
   ]
  },
  {
   "cell_type": "code",
   "execution_count": null,
   "id": "7aca21c4",
   "metadata": {},
   "outputs": [],
   "source": [
    "from scipy.sparse import csr_matrix\n",
    "from sklearn.neighbors import NearestNeighbors\n",
    "import matplotlib.pyplot as plt"
   ]
  },
  {
   "cell_type": "code",
   "execution_count": null,
   "id": "46cab5dc",
   "metadata": {},
   "outputs": [],
   "source": [
    "model = NearestNeighbors(metric='cosine')\n",
    "model.fit(df.values)"
   ]
  },
  {
   "cell_type": "markdown",
   "id": "0634dee0",
   "metadata": {},
   "source": [
    "### Check Prediction"
   ]
  },
  {
   "cell_type": "code",
   "execution_count": null,
   "id": "aaa79541",
   "metadata": {},
   "outputs": [],
   "source": [
    "title = \"I'll Be Seeing You\"\n",
    "df.loc[title].shape"
   ]
  },
  {
   "cell_type": "code",
   "execution_count": null,
   "id": "a273bc0f",
   "metadata": {},
   "outputs": [],
   "source": [
    "distance, indice = model.kneighbors([df.loc[title].values], n_neighbors=6)\n",
    "\n",
    "print(distance)\n",
    "print(indice)"
   ]
  },
  {
   "cell_type": "code",
   "execution_count": null,
   "id": "35e7f81f",
   "metadata": {},
   "outputs": [],
   "source": [
    "pd.DataFrame({\n",
    "    'title'   : df.iloc[indice[0]].index.values,\n",
    "    'distance': distance[0]\n",
    "}) \\\n",
    ".sort_values(by='distance', ascending=False)"
   ]
  },
  {
   "cell_type": "code",
   "execution_count": null,
   "id": "241002ca",
   "metadata": {},
   "outputs": [],
   "source": [
    "def get_recommends(title=\"\"):\n",
    "    if title not in df.index:\n",
    "        print(f\"The book '{title}' does not exist in the dataset.\")\n",
    "        return []\n",
    "\n",
    "    book_vector = df.loc[title].values.reshape(1, -1)\n",
    "\n",
    "    distances, indices = model.kneighbors(book_vector, n_neighbors=6)\n",
    "\n",
    "    recommended_books = pd.DataFrame({\n",
    "        'title': df.index[indices.flatten()][1:],\n",
    "        'distance': distances.flatten()[1:]  \n",
    "    })\n",
    "\n",
    "    recommended_books = recommended_books.sort_values(by='distance', ascending=True)\n",
    "\n",
    "    return [title, recommended_books.values.tolist()]"
   ]
  },
  {
   "cell_type": "code",
   "execution_count": null,
   "id": "a84a38a7",
   "metadata": {},
   "outputs": [],
   "source": [
    "books = get_recommends(\"I'll Be Seeing You\")\n",
    "print(books)"
   ]
  },
  {
   "cell_type": "markdown",
   "id": "604165a8",
   "metadata": {},
   "source": [
    "## Save Model"
   ]
  },
  {
   "cell_type": "code",
   "execution_count": null,
   "id": "10c9459a",
   "metadata": {},
   "outputs": [],
   "source": [
    "import joblib\n",
    "\n",
    "joblib.dump(model, 'book_recommender_model.joblib')"
   ]
  },
  {
   "cell_type": "code",
   "execution_count": null,
   "id": "3aa20389",
   "metadata": {},
   "outputs": [],
   "source": [
    "loaded_model = joblib.load('book_recommender_model.joblib')"
   ]
  },
  {
   "cell_type": "code",
   "execution_count": null,
   "id": "29b3e8f0",
   "metadata": {},
   "outputs": [],
   "source": [
    "title = \"I'll Be Seeing You\"\n",
    "\n",
    "if title in df.index:\n",
    "    book_vector = df.loc[title].values.reshape(1, -1)\n",
    "    distances, indices = loaded_model.kneighbors(book_vector, n_neighbors=6)\n",
    "\n",
    "    # Print the recommended books\n",
    "    recommended_books = df.index[indices.flatten()][1:]  # Exclude the book itself\n",
    "    print(f\"Recommendations for '{title}':\")\n",
    "    for book, distance in zip(recommended_books, distances.flatten()[1:]):\n",
    "        print(f\"{book} (similarity score: {1 - distance:.2f})\")\n",
    "else:\n",
    "    print(f\"Book '{title}' not found in the dataset.\")\n"
   ]
  }
 ],
 "metadata": {
  "kernelspec": {
   "display_name": "Python 3 (ipykernel)",
   "language": "python",
   "name": "python3"
  },
  "language_info": {
   "codemirror_mode": {
    "name": "ipython",
    "version": 3
   },
   "file_extension": ".py",
   "mimetype": "text/x-python",
   "name": "python",
   "nbconvert_exporter": "python",
   "pygments_lexer": "ipython3",
   "version": "3.10.6"
  }
 },
 "nbformat": 4,
 "nbformat_minor": 5
}
